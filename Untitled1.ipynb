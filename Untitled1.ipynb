{
 "cells": [
  {
   "cell_type": "code",
   "execution_count": 40,
   "metadata": {},
   "outputs": [
    {
     "data": {
      "image/png": "[encoded data removed]",
      "text/plain": [
       "<Figure size 432x288 with 1 Axes>"
      ]
     },
     "metadata": {},
     "output_type": "display_data"
    }
   ],
   "source": [
    "from numpy import *\n",
    "import matplotlib.pyplot as plt\n",
    "j = complex(0.0, 1.0)\n",
    "def f(x):\n",
    "    return 1/sqrt(2)*(pi**-0.25 * exp(-0.5*x*x)) * (1 + sqrt(2)*x)\n",
    "N = 101\n",
    "L = 10.0*pi\n",
    "h = L/(N)\n",
    "def V(x):\n",
    "    return 0.25 * x**4\n",
    "dt = 0.0001\n",
    "x = linspace(-L/2.0, L/2.0, N)\n",
    "R = zeros(N+2)\n",
    "I = zeros(N+2)\n",
    "\n",
    "R[1:N+1] = f(x[0:N])\n",
    "\n",
    "R[0] = R[N]; R[N+1] = R[1];\n",
    "I[0] = I[N]; I[N+1] = I[1];\n",
    "\n",
    "I[1:N+1] = I[1:N+1] - 0.5 * dt *(-0.5 * (h**-2)  * (R[0:N] - 2.0*R[1:N+1] + R[2:N+2]) + V(x)*R[1:N+1])\n",
    "I[0] = I[N]; I[N+1] = I[1];\n",
    "\n",
    "mark = [2.0]\n",
    "tf = 2.0\n",
    "# mark = linspace(0.0, tf, 5)\n",
    "t = 0.0\n",
    "pos= 0\n",
    "\n",
    "while(t<=tf+dt/2.0):\n",
    "    I1 = zeros(N+2)\n",
    "    R[1:N+1] += dt * (-0.5 * (h**-2) * (I[0:N] - 2.0*I[1:N+1] + I[2:N+2]) + V(x)*I[1:N+1])\n",
    "    R[0] = R[N]; R[N+1] = R[1];\n",
    "    I1[1:N+1] = I[1:N+1] - 0.5 * dt * (-0.5 * (h**-2) * (R[0:N] - 2.0*R[1:N+1] + R[2:N+2]) + V(x)*R[1:N+1])\n",
    "    I[1:N+1] += -dt * (-0.5 * (h**-2) *(R[0:N] - 2.0*R[1:N+1] + R[2:N+2]) + V(x)*R[1:N+1])\n",
    "    I[0] = I[N]; I[N+1] = I[1];\n",
    "    if (t+dt/2>=mark[pos]):\n",
    "        plt.plot(x, R[1:N+1]**2 + I1[1:N+1]**2, label = mark[pos])\n",
    "        pos += 1\n",
    "    t += dt\n",
    "plt.legend(loc = 0)\n",
    "plt.grid()"
   ]
  },
  {
   "cell_type": "code",
   "execution_count": 41,
   "metadata": {},
   "outputs": [
    {
     "data": {
      "image/png": "[encoded data removed]",
      "text/plain": [
       "<Figure size 432x288 with 1 Axes>"
      ]
     },
     "metadata": {},
     "output_type": "display_data"
    }
   ],
   "source": [
    "from numpy import *\n",
    "import matplotlib.pyplot as plt\n",
    "j = complex(0.0, 1.0)\n",
    "def f(x):\n",
    "    return 1/sqrt(2)*(pi**-0.25 * exp(-0.5*x*x)) * (1 + sqrt(2)*x)\n",
    "N = 101\n",
    "L = 10.0*pi\n",
    "h = L/(N)\n",
    "def V(x):\n",
    "    return 0.5 * x**2 + 0.5 * x\n",
    "dt = 0.001\n",
    "x = linspace(-L/2.0, L/2.0, N)\n",
    "R = zeros(N+2)\n",
    "I = zeros(N+2)\n",
    "\n",
    "R[1:N+1] = f(x[0:N])\n",
    "\n",
    "R[0] = R[N]; R[N+1] = R[1];\n",
    "I[0] = I[N]; I[N+1] = I[1];\n",
    "\n",
    "I[1:N+1] = I[1:N+1] - 0.5 * dt *(-0.5 * (h**-2)  * (R[0:N] - 2.0*R[1:N+1] + R[2:N+2]) + V(x)*R[1:N+1])\n",
    "I[0] = I[N]; I[N+1] = I[1];\n",
    "\n",
    "mark = [0.0, 1.0]\n",
    "tf = 1.0\n",
    "# mark = linspace(0.0, tf, 5)\n",
    "t = 0.0\n",
    "pos= 0\n",
    "\n",
    "while(t<=tf+dt/2.0):\n",
    "    I1 = zeros(N+2)\n",
    "    R[1:N+1] += dt * (-0.5 * (h**-2) * (I[0:N] - 2.0*I[1:N+1] + I[2:N+2]) + V(x)*I[1:N+1])\n",
    "    R[0] = R[N]; R[N+1] = R[1];\n",
    "    I1[1:N+1] = I[1:N+1] - 0.5 * dt * (-0.5 * (h**-2) * (R[0:N] - 2.0*R[1:N+1] + R[2:N+2]) + V(x)*R[1:N+1])\n",
    "    I[1:N+1] += -dt * (-0.5 * (h**-2) *(R[0:N] - 2.0*R[1:N+1] + R[2:N+2]) + V(x)*R[1:N+1])\n",
    "    I[0] = I[N]; I[N+1] = I[1];\n",
    "    if (t+dt/2>=mark[pos]):\n",
    "        plt.plot(x, R[1:N+1]**2 + I1[1:N+1]**2, label = mark[pos])\n",
    "        pos += 1\n",
    "    t += dt\n",
    "plt.legend(loc = 0)\n",
    "plt.show()"
   ]
  },
  {
   "cell_type": "code",
   "execution_count": 25,
   "metadata": {},
   "outputs": [
    {
     "name": "stdout",
     "output_type": "stream",
     "text": [
      "[15.35834965+2.22044605e-16j  9.55305487-8.62733150e+00j\n",
      "  2.48476524-7.70904607e+00j  0.55743875-4.75294440e+00j\n",
      "  0.38144708-3.25602517e+00j  0.3756342 -2.50961407e+00j\n",
      "  0.3755631 -2.05166962e+00j  0.37556277-1.73594644e+00j\n",
      "  0.37556277-1.50328295e+00j  0.37556277-1.32390530e+00j\n",
      "  0.37556277-1.18092153e+00j  0.37556277-1.06396167e+00j\n",
      "  0.37556277-9.66281359e-01j  0.37556277-8.83293897e-01j\n",
      "  0.37556277-8.11766312e-01j  0.37556277-7.49351674e-01j\n",
      "  0.37556277-6.94303599e-01j  0.37556277-6.45294848e-01j\n",
      "  0.37556277-6.01298152e-01j  0.37556277-5.61505614e-01j\n",
      "  0.37556277-5.25272837e-01j  0.37556277-4.92079331e-01j\n",
      "  0.37556277-4.61499912e-01j  0.37556277-4.33183682e-01j\n",
      "  0.37556277-4.06838340e-01j  0.37556277-3.82218308e-01j\n",
      "  0.37556277-3.59115626e-01j  0.37556277-3.37352894e-01j\n",
      "  0.37556277-3.16777740e-01j  0.37556277-2.97258441e-01j\n",
      "  0.37556277-2.78680424e-01j  0.37556277-2.60943448e-01j\n",
      "  0.37556277-2.43959318e-01j  0.37556277-2.27650010e-01j\n",
      "  0.37556277-2.11946129e-01j  0.37556277-1.96785631e-01j\n",
      "  0.37556277-1.82112752e-01j  0.37556277-1.67877109e-01j\n",
      "  0.37556277-1.54032944e-01j  0.37556277-1.40538468e-01j\n",
      "  0.37556277-1.27355314e-01j  0.37556277-1.14448056e-01j\n",
      "  0.37556277-1.01783790e-01j  0.37556277-8.93317724e-02j\n",
      "  0.37556277-7.70630969e-02j  0.37556277-6.49504081e-02j\n",
      "  0.37556277-5.29676433e-02j  0.37556277-4.10897980e-02j\n",
      "  0.37556277-2.92927097e-02j  0.37556277-1.75528564e-02j\n",
      "  0.37556277-5.84716606e-03j  0.37556277+5.84716606e-03j\n",
      "  0.37556277+1.75528564e-02j  0.37556277+2.92927097e-02j\n",
      "  0.37556277+4.10897980e-02j  0.37556277+5.29676433e-02j\n",
      "  0.37556277+6.49504081e-02j  0.37556277+7.70630969e-02j\n",
      "  0.37556277+8.93317724e-02j  0.37556277+1.01783790e-01j\n",
      "  0.37556277+1.14448056e-01j  0.37556277+1.27355314e-01j\n",
      "  0.37556277+1.40538468e-01j  0.37556277+1.54032944e-01j\n",
      "  0.37556277+1.67877109e-01j  0.37556277+1.82112752e-01j\n",
      "  0.37556277+1.96785631e-01j  0.37556277+2.11946129e-01j\n",
      "  0.37556277+2.27650010e-01j  0.37556277+2.43959318e-01j\n",
      "  0.37556277+2.60943448e-01j  0.37556277+2.78680424e-01j\n",
      "  0.37556277+2.97258441e-01j  0.37556277+3.16777740e-01j\n",
      "  0.37556277+3.37352894e-01j  0.37556277+3.59115626e-01j\n",
      "  0.37556277+3.82218308e-01j  0.37556277+4.06838340e-01j\n",
      "  0.37556277+4.33183682e-01j  0.37556277+4.61499912e-01j\n",
      "  0.37556277+4.92079331e-01j  0.37556277+5.25272837e-01j\n",
      "  0.37556277+5.61505614e-01j  0.37556277+6.01298152e-01j\n",
      "  0.37556277+6.45294848e-01j  0.37556277+6.94303599e-01j\n",
      "  0.37556277+7.49351674e-01j  0.37556277+8.11766312e-01j\n",
      "  0.37556277+8.83293897e-01j  0.37556277+9.66281359e-01j\n",
      "  0.37556277+1.06396167e+00j  0.37556277+1.18092153e+00j\n",
      "  0.37556277+1.32390530e+00j  0.37556277+1.50328295e+00j\n",
      "  0.37556277+1.73594644e+00j  0.3755631 +2.05166962e+00j\n",
      "  0.3756342 +2.50961407e+00j  0.38144708+3.25602517e+00j\n",
      "  0.55743875+4.75294440e+00j  2.48476524+7.70904607e+00j\n",
      "  9.55305487+8.62733150e+00j] 101\n"
     ]
    }
   ],
   "source": [
    "def f2(x):\n",
    "    return cos(3*x) + j*(sin(3*x))\n",
    "x = linspace(0, 2*pi, 101)\n",
    "print(fft.fft(f(x)), 101)\n"
   ]
  },
  {
   "cell_type": "code",
   "execution_count": 54,
   "metadata": {},
   "outputs": [
    {
     "name": "stdout",
     "output_type": "stream",
     "text": [
      "0.68\n"
     ]
    }
   ],
   "source": [
    "from numpy import *\n",
    "import matplotlib.pyplot as plt\n",
    "j = complex(0.0, 1.0)\n",
    "def f(x):\n",
    "    return 1/sqrt(2)*(pi**-0.25 * exp(-0.5*x*x)) * (1 + sqrt(2)*x)\n",
    "N = 101\n",
    "L = 2*pi\n",
    "h = L/(N)\n",
    "def V(x):\n",
    "    return 0.5 * x**2\n",
    "dt = 0.001\n",
    "x = linspace(-L/2.0, L/2.0, N)\n",
    "R = zeros(N+2)\n",
    "I = zeros(N+2)\n",
    "\n",
    "R[1:N+1] = f(x[0:N])\n",
    "\n",
    "R[0] = R[N]; R[N+1] = R[1];\n",
    "I[0] = I[N]; I[N+1] = I[1];\n",
    "\n",
    "I[1:N+1] = I[1:N+1] - 0.5 * dt *(-0.5 * (h**-2)  * (R[0:N] - 2.0*R[1:N+1] + R[2:N+2]) + V(x)*R[1:N+1])\n",
    "I[0] = I[N]; I[N+1] = I[1];\n",
    "\n",
    "mark = [0.1, 1.0]\n",
    "tf = 0.1\n",
    "# mark = linspace(0.0, tf, 5)\n",
    "t = 0.0\n",
    "pos= 0\n",
    "ans = zeros(N+2)\n",
    "while(t<=tf+dt):\n",
    "    I1 = zeros(N+2)\n",
    "    R[1:N+1] += dt * (-0.5 * (h**-2) * (I[0:N] - 2.0*I[1:N+1] + I[2:N+2]) )\n",
    "    R[0] = R[N]; R[N+1] = R[1];\n",
    "    I1[1:N+1] = I[1:N+1] - 0.5 * dt * (-0.5 * (h**-2) * (R[0:N] - 2.0*R[1:N+1] + R[2:N+2]) + V(x)*R[1:N+1])\n",
    "    I[1:N+1] += -dt * (-0.5 * (h**-2) *(R[0:N] - 2.0*R[1:N+1] + R[2:N+2]) + V(x)*R[1:N+1])\n",
    "    I[0] = I[N]; I[N+1] = I[1];\n",
    "    if (t+dt/2>=mark[pos]):\n",
    "        ans = R**2 + I**2\n",
    "        pos += 1\n",
    "    t += dt\n",
    "print(round(max(ans), 2))\n",
    "# plt.legend(loc = 0)"
   ]
  },
  {
   "cell_type": "code",
   "execution_count": 102,
   "metadata": {},
   "outputs": [
    {
     "name": "stdout",
     "output_type": "stream",
     "text": [
      "0.56098\n"
     ]
    },
    {
     "data": {
      "image/png": "[encoded data removed]",
      "text/plain": [
       "<Figure size 432x288 with 1 Axes>"
      ]
     },
     "metadata": {},
     "output_type": "display_data"
    }
   ],
   "source": [
    "from numpy import *\n",
    "import matplotlib.pyplot as plt\n",
    "j = complex(0.0, 1.0)\n",
    "def f(x):\n",
    "    return (pi**-0.25 * exp(-0.5*x*x))\n",
    "N = 101\n",
    "L = 2*pi\n",
    "h = L/(N)\n",
    "dt = 0.0001\n",
    "x = linspace(-L/2.0, L/2.0, N)\n",
    "R = zeros(N+2)\n",
    "I = zeros(N+2)\n",
    "R[1:N+1], I[1:N+1] = f(x[0:N])*cos(x[0:N]), f(x[0:N])*sin(x[0:N])\n",
    "# R[0] = R[N]; R[N+1] = R[1];\n",
    "# I[0] = I[N]; I[N+1] = I[1];\n",
    "I[1:N+1] = I[1:N+1] + 0.5 * dt * 0.5 * (R[0:N] - 2.0*R[1:N+1] + R[2:N+2])/(h*h)\n",
    "# I[0] = I[N]; I[N+1] = I[1];\n",
    "mark = [0.1]\n",
    "# mark = linspace(0.0, 5.0, 5)\n",
    "tf = .1\n",
    "t = 0.0\n",
    "pos= 0\n",
    "ans = zeros(N)\n",
    "while(t-dt/2<=tf):\n",
    "    I1 = zeros(N+2)\n",
    "    R[1:N+1] += (-0.5 * (h**-2) * dt * (I[0:N] - 2.0*I[1:N+1] + I[2:N+2]))\n",
    "#     R[0] = R[N]; R[N+1] = R[1];\n",
    "    I1[1:N+1] = I[1:N+1] - 0.5 * (h**-2) * dt * 0.5 * (R[0:N] - 2.0*R[1:N+1] + R[2:N+2])\n",
    "    I[1:N+1] += (0.5 * (h**-2) * dt * (R[0:N] - 2.0*R[1:N+1] + R[2:N+2]))\n",
    "#     I[0] = I[N]; I[N+1] = I[1];\n",
    "    if (t>=0.1):\n",
    "        ans = R[1:N+1]**2 + I1[1:N+1]**2\n",
    "        plt.plot(x, R[1:N+1]**2 + I[1:N+1]**2, label = mark[pos])\n",
    "        pos += 1\n",
    "    t += dt\n",
    "\n",
    "print(round(max(ans), 5))"
   ]
  },
  {
   "cell_type": "code",
   "execution_count": 91,
   "metadata": {},
   "outputs": [
    {
     "name": "stdout",
     "output_type": "stream",
     "text": [
      "0.9755026414\n"
     ]
    },
    {
     "data": {
      "image/png": "[encoded data removed]",
      "text/plain": [
       "<Figure size 432x288 with 1 Axes>"
      ]
     },
     "metadata": {},
     "output_type": "display_data"
    }
   ],
   "source": [
    "from numpy import *\n",
    "import matplotlib.pyplot as plt\n",
    "j = complex(0.0, 1.0)\n",
    "def f(x):\n",
    "    return exp(-32.0*(x-2.0)**2)\n",
    "N = 500\n",
    "L = 2*pi\n",
    "\n",
    "\n",
    "dt = 0.001\n",
    "h = L/(N)\n",
    "x = linspace(0.0, L, N)\n",
    "y = f(x)\n",
    "yt = fft.fft(y, N)\n",
    "# k = fft.fftfreq(N, 1.0/N)\n",
    "# k = arange(0.0, (N+.0)/2.0)\n",
    "k1 = list(range(0, int(N/2)+1))\n",
    "k2 = list(range(-int(N/2)+1, 0))\n",
    "k = array(k1+k2)\n",
    "# concatenate(k, arange(-(N+0.0)/2.0, 0.0))\n",
    "t = 0.0\n",
    "tf = 1.0\n",
    "c=1.5\n",
    "while(t<tf):\n",
    "    ytm = yt - c * j *yt*dt*0.5*k\n",
    "    yt = yt - c*j*ytm*dt*k\n",
    "    t+=dt\n",
    "plt.plot(x,y)\n",
    "\n",
    "y = real(fft.ifft(yt, N))\n",
    "plt.plot(x, y)\n",
    "i =0\n",
    "for v in x:\n",
    "    if(round(v, 2)==3.48):\n",
    "        print(round(y[i], 10))\n",
    "    i+=1\n",
    "    \n",
    "a = 1.98\n"
   ]
  },
  {
   "cell_type": "code",
   "execution_count": 85,
   "metadata": {},
   "outputs": [
    {
     "name": "stdout",
     "output_type": "stream",
     "text": [
      "0.0\n"
     ]
    },
    {
     "data": {
      "image/png": "[encoded data removed]",
      "text/plain": [
       "<Figure size 432x288 with 1 Axes>"
      ]
     },
     "metadata": {},
     "output_type": "display_data"
    }
   ],
   "source": [
    "from numpy import *\n",
    "import matplotlib.pyplot as plt\n",
    "N=500\n",
    "l=2*pi\n",
    "h=l/N\n",
    "tf=1.0\n",
    "dt=0.001\n",
    "x=linspace(0.0, l, N)\n",
    "f=zeros(N+2)\n",
    "f[1:N+1]=exp(-32.0*(x-2.0)**2)\n",
    "f[0]=f[N]; f[N+1]=f[1]\n",
    "fmid=zeros(N+2)\n",
    "t=0.0\n",
    "mark=0.0\n",
    "c = 1.5\n",
    "while (t<=tf):\n",
    "    f_mid[1:N+1]=f[1:N+1] - 0.5 *c*dt*(f[1:N+1]-f[0:N])/(h) \n",
    "    fmid[0]=fmid[N]; fmid[N+1]=fmid[1]\n",
    "    \n",
    "    f[1:N+1] = f[1:N+1] - c*dt*(fmid[1:N+1]-fmid[0:N])/(h) \n",
    "    f[0]=f[N]; f[N+1]=f[1]\n",
    "    if(t+dt/2>mark):\n",
    "        plt.plot(x,f[1:N+1],label=mark)\n",
    "        mark+=1.0\n",
    "    t+=dt\n",
    "i =0\n",
    "for v in x:\n",
    "    if(round(v, 2)==3.48):\n",
    "        print(round(f[i+1], 3))\n",
    "    i+=1"
   ]
  }
 ],
 "metadata": {
  "kernelspec": {
   "display_name": "Python 3",
   "language": "python",
   "name": "python3"
  },
  "language_info": {
   "codemirror_mode": {
    "name": "ipython",
    "version": 3
   },
   "file_extension": ".py",
   "mimetype": "text/x-python",
   "name": "python",
   "nbconvert_exporter": "python",
   "pygments_lexer": "ipython3",
   "version": "3.6.9"
  }
 },
 "nbformat": 4,
 "nbformat_minor": 2
}
