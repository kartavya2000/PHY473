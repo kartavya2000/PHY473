{
 "cells": [
  {
   "cell_type": "markdown",
   "metadata": {},
   "source": [
    "Gauss elimination procedure for 3d matrix"
   ]
  },
  {
   "cell_type": "code",
   "execution_count": null,
   "metadata": {},
   "outputs": [],
   "source": [
    "from numpy import *\n",
    "a, b1, c=float(input()),float(input()),float(input())\n",
    "# x,y,z=float(input()),float(input()),float(input())\n",
    "b=array([1,-2,3])\n",
    "\n",
    "A=array([[1,2,0],[a,3,a], [0,c,b1]])\n",
    "\n",
    "A[1]-=a*A[0]\n",
    "b[1]-=a*b[0]\n",
    "A[2]-=(c/3)*A[1]\n",
    "b[2]-=(c/3)*b[1]\n",
    "\n",
    "z=b[2]/A[2,2]\n",
    "y=(b[1]-z*A[1,2])/A[1,1]\n",
    "x=(b[0]-y*A[0,1]-z*A[0,2])/A[0,0]\n",
    "\n",
    "print(round(x+y+z),2)\n"
   ]
  }
 ],
 "metadata": {
  "kernelspec": {
   "display_name": "Python 3",
   "language": "python",
   "name": "python3"
  },
  "language_info": {
   "codemirror_mode": {
    "name": "ipython",
    "version": 3
   },
   "file_extension": ".py",
   "mimetype": "text/x-python",
   "name": "python",
   "nbconvert_exporter": "python",
   "pygments_lexer": "ipython3",
   "version": "3.6.9"
  }
 },
 "nbformat": 4,
 "nbformat_minor": 2
}
