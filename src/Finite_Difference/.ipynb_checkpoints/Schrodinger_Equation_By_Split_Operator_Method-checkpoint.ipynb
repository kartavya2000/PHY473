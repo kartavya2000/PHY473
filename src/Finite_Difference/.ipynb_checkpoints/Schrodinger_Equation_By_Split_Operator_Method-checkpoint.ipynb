{
 "cells": [
  {
   "cell_type": "markdown",
   "metadata": {},
   "source": [
    "Schrodinger Equation with Split Operator Method for time Stepping. This method is solved with Tridiagonal Matrix."
   ]
  },
  {
   "cell_type": "code",
   "execution_count": 20,
   "metadata": {},
   "outputs": [
    {
     "name": "stdout",
     "output_type": "stream",
     "text": [
      "[[ 0.33178754-0.28091508j  0.22627538-0.0249627j   0.1055921 +0.05539224j\n",
      "  ...  0.02966954+0.05492002j  0.10556974+0.0552946j\n",
      "   0.22620487-0.02502874j]\n",
      " [ 0.22627538-0.0249627j   0.33198103-0.28083631j  0.22640544-0.02480707j\n",
      "  ... -0.00317771+0.03253212j  0.02967887+0.0548958j\n",
      "   0.10556974+0.0552946j ]\n",
      " [ 0.1055921 +0.05539224j  0.22640544-0.02480707j  0.33217049-0.28070163j\n",
      "  ... -0.01090303+0.01320049j -0.00317771+0.03253212j\n",
      "   0.02966954+0.05492002j]\n",
      " ...\n",
      " [ 0.02966954+0.05492002j -0.00317771+0.03253212j -0.01090303+0.01320049j\n",
      "  ...  0.33217049-0.28070163j  0.22640544-0.02480707j\n",
      "   0.1055921 +0.05539224j]\n",
      " [ 0.10556974+0.0552946j   0.02967887+0.0548958j  -0.00317771+0.03253212j\n",
      "  ...  0.22640544-0.02480707j  0.33198103-0.28083631j\n",
      "   0.22627538-0.0249627j ]\n",
      " [ 0.22620487-0.02502874j  0.10556974+0.0552946j   0.02966954+0.05492002j\n",
      "  ...  0.1055921 +0.05539224j  0.22627538-0.0249627j\n",
      "   0.33178754-0.28091508j]]\n"
     ]
    },
    {
     "data": {
      "text/plain": [
       "<matplotlib.legend.Legend at 0x7f2243c74780>"
      ]
     },
     "execution_count": 20,
     "metadata": {},
     "output_type": "execute_result"
    },
    {
     "data": {
      "image/png": "[encoded data removed]",
      "text/plain": [
       "<Figure size 432x288 with 1 Axes>"
      ]
     },
     "metadata": {},
     "output_type": "display_data"
    }
   ],
   "source": [
    "from numpy import *\n",
    "import matplotlib.pyplot as plt\n",
    "from scipy import linalg\n",
    "import scipy.sparse as sps\n",
    "\n",
    "j = complex(0.0, 1.0)\n",
    "def f(x):\n",
    "    return 1/sqrt(2)*(pi**-0.25 * exp(-0.5*x*x)) * (1 + sqrt(2)*x)\n",
    "N = 101\n",
    "L = 2*pi\n",
    "h = L/(N)\n",
    "\n",
    "dt = 0.01\n",
    "x = linspace(-L/2.0, L/2.0, N)\n",
    "\n",
    "y = zeros(N+2, dtype = complex)\n",
    "y[1:N+1] = f(x)\n",
    "y[0] = y[N]; y[-1] = y[1];\n",
    "\n",
    "mark = [0.0, 1.0]\n",
    "tf = 1.0\n",
    "# mark = linspace(0.0, tf, 5)\n",
    "t = 0.0\n",
    "pos= 0\n",
    "plt.plot(x, abs(y[1:N+1])**2, label=0)\n",
    "def V(x):\n",
    "    return 0.5*x*x\n",
    "j = complex(0.0, 1.0)\n",
    "\n",
    "diagonals=zeros((3, N), dtype=complex)\n",
    "diagonals[0,:]=-j*dt/(2.0*h**2)\n",
    "diagonals[1,:]=(1+(j*dt/2.0)*V(x)+j*dt/h**2)\n",
    "diagonals[2,:]=-j*dt/(2.0*h**2)\n",
    "A=(sps.diags(diagonals, [-1, 0, 1], shape=(N, N), format='csc', dtype=complex))\n",
    "A=A.toarray()\n",
    "A[0, N-1]=-j*dt/(2.0*h**2)\n",
    "A[N-1, 0]=-j*dt/(2.0*h**2)\n",
    "Ainv=linalg.inv(A)\n",
    "print(Ainv)\n",
    "while(t<=tf+dt/2):\n",
    "    \n",
    "\n",
    "    ry = -j*dt/(2.0*h**2)*y[0:N]+(1+j*dt/2*V(x)+j*dt/h**2)*y[1:N+1]-j*dt/(2.0*h**2)*y[2:N+2]\n",
    "    y[1:N+1]=dot(Ainv, ry)\n",
    "    y[0]=y[N]; y[N+1]=y[1]\n",
    "#     print(y)\n",
    "    if (t+dt/2>=mark[pos]):\n",
    "        plt.plot(x, abs(y[1:N+1])**2, label = mark[pos])\n",
    "        pos += 1\n",
    "    t += dt\n",
    "plt.legend(loc = 0)"
   ]
  }
 ],
 "metadata": {
  "kernelspec": {
   "display_name": "Python 3",
   "language": "python",
   "name": "python3"
  },
  "language_info": {
   "codemirror_mode": {
    "name": "ipython",
    "version": 3
   },
   "file_extension": ".py",
   "mimetype": "text/x-python",
   "name": "python",
   "nbconvert_exporter": "python",
   "pygments_lexer": "ipython3",
   "version": "3.6.9"
  }
 },
 "nbformat": 4,
 "nbformat_minor": 2
}
