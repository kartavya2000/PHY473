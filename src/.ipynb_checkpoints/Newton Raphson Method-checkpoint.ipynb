{
 "cells": [
  {
   "cell_type": "markdown",
   "metadata": {},
   "source": [
    "Newton Raphson Method for non linear algebraic equation.\n",
    "$$x_{n+1} = x_n - \\frac{f(x_n)}{f'(x_n)}$$\n",
    "The method fails to converge if \n",
    "$|f''(x*)/f'(x*)|$ is large.\n",
    "\n",
    "In this example proper derivative for the function is used however the derivative used can be two point central derivative, etc."
   ]
  },
  {
   "cell_type": "code",
   "execution_count": 5,
   "metadata": {},
   "outputs": [
    {
     "name": "stdout",
     "output_type": "stream",
     "text": [
      "1.7917594693651107\n"
     ]
    }
   ],
   "source": [
    "from numpy import *\n",
    "def f(x):\n",
    "    return exp(x) - 6\n",
    "def df(x):\n",
    "    return exp(x)\n",
    "N = 10\n",
    "eps = 0.001\n",
    "x = zeros(N)\n",
    "x[0] = 3\n",
    "for i in range(1, N):\n",
    "    x[i] = x[i-1] - f(x[i-1])/df(x[i-1])\n",
    "    if (abs(x[i]-x[i-1]) < eps):\n",
    "        break\n",
    "print(x[i])"
   ]
  },
  {
   "cell_type": "code",
   "execution_count": null,
   "metadata": {},
   "outputs": [],
   "source": []
  }
 ],
 "metadata": {
  "kernelspec": {
   "display_name": "Python 3",
   "language": "python",
   "name": "python3"
  },
  "language_info": {
   "codemirror_mode": {
    "name": "ipython",
    "version": 3
   },
   "file_extension": ".py",
   "mimetype": "text/x-python",
   "name": "python",
   "nbconvert_exporter": "python",
   "pygments_lexer": "ipython3",
   "version": "3.6.9"
  }
 },
 "nbformat": 4,
 "nbformat_minor": 2
}
