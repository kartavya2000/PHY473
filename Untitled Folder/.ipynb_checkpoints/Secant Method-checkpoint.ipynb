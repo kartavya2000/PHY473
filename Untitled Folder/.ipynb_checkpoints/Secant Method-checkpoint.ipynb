{
 "cells": [
  {
   "cell_type": "markdown",
   "metadata": {},
   "source": [
    "Secant Method for non algebraic equation root finding:\n",
    "$$ x_{n+1} = x_n - f(x_n) \\frac{x_n - x_{n-1}}{f(x_n) - f(x_{n-1})}$$\n",
    "For this method take two starting values x_0 and x_1 to be on the same side of the root and in the order such that a sequence converges to the root is monotonous.\n"
   ]
  },
  {
   "cell_type": "code",
   "execution_count": 1,
   "metadata": {},
   "outputs": [
    {
     "name": "stdout",
     "output_type": "stream",
     "text": [
      "1.791764077555014\n"
     ]
    }
   ],
   "source": [
    "from numpy import *\n",
    "from numpy import *\n",
    "def f(x):\n",
    "    return exp(x)-6\n",
    "eps = 0.001\n",
    "N = 100\n",
    "x = zeros(N)\n",
    "x[0] = 3\n",
    "x[1] = 2.5\n",
    "\n",
    "for i in range(2, N):\n",
    "    x[i] = x[i-1] - f(x[i-1])*(x[i-1]-x[i-2])/(f(x[i-1])-f(x[i-2]))\n",
    "    if (abs(x[i]-x[i-1]) < eps):\n",
    "        break\n",
    "        \n",
    "print(x[i])"
   ]
  }
 ],
 "metadata": {
  "kernelspec": {
   "display_name": "Python 3",
   "language": "python",
   "name": "python3"
  },
  "language_info": {
   "codemirror_mode": {
    "name": "ipython",
    "version": 3
   },
   "file_extension": ".py",
   "mimetype": "text/x-python",
   "name": "python",
   "nbconvert_exporter": "python",
   "pygments_lexer": "ipython3",
   "version": "3.6.9"
  }
 },
 "nbformat": 4,
 "nbformat_minor": 2
}
