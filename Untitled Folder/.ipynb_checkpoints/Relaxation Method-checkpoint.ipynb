{
 "cells": [
  {
   "cell_type": "markdown",
   "metadata": {},
   "source": [
    "Relaxation Method for non linear algebraic root finding:\n",
    "This method is used to find the root to the equation \n",
    "$$ f(x) = x $$\n",
    "The method is:\n",
    "$$ x_{n+1} = f(x_n) $$\n",
    "For the method to converge we must have $|f(x*)|<1$. The iteration diverges for the other case.\n",
    "\n",
    "In order to compute root for the other case we must use the following form :\n",
    "$$ x_n = f^{-1}(x_{n+1}) $$\n"
   ]
  },
  {
   "cell_type": "code",
   "execution_count": 1,
   "metadata": {},
   "outputs": [
    {
     "name": "stdout",
     "output_type": "stream",
     "text": [
      "0.6002402409146395\n"
     ]
    }
   ],
   "source": [
    "from numpy import *\n",
    "from numpy import *\n",
    "def f(x):\n",
    "    return 2.5 *x*(1.0-x)\n",
    "eps = 0.001\n",
    "N = 100\n",
    "x = zeros(N)\n",
    "x[0] = 0.1\n",
    "\n",
    "for i in range(1, N):\n",
    "    x[i] = f(x[i-1])\n",
    "    if (abs(x[i]-x[i-1]) < eps):\n",
    "        break\n",
    "        \n",
    "print(x[i])"
   ]
  }
 ],
 "metadata": {
  "kernelspec": {
   "display_name": "Python 3",
   "language": "python",
   "name": "python3"
  },
  "language_info": {
   "codemirror_mode": {
    "name": "ipython",
    "version": 3
   },
   "file_extension": ".py",
   "mimetype": "text/x-python",
   "name": "python",
   "nbconvert_exporter": "python",
   "pygments_lexer": "ipython3",
   "version": "3.6.9"
  }
 },
 "nbformat": 4,
 "nbformat_minor": 2
}
