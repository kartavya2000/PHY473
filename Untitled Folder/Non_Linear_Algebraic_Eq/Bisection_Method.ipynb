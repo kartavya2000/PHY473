{
 "cells": [
  {
   "cell_type": "markdown",
   "metadata": {},
   "source": [
    "Bisection Method for Non linear algebraic equation solver\n",
    "replace f(x) by appropriate function\n",
    "first plot the function and then identify bounding values x[0] and x[1]."
   ]
  },
  {
   "cell_type": "code",
   "execution_count": 8,
   "metadata": {},
   "outputs": [
    {
     "name": "stdout",
     "output_type": "stream",
     "text": [
      "1.7919921875\n"
     ]
    }
   ],
   "source": [
    "from numpy import *\n",
    "def f(x):\n",
    "    return exp(x)-6\n",
    "eps = 0.001\n",
    "N = 1000\n",
    "x = zeros(N)\n",
    "x[0] = 3\n",
    "x[1] = 1\n",
    "for i in range(2, N):\n",
    "    mid = (x[i-2] + x[i-1])/2\n",
    "    if(abs(mid-x[i-1]) < eps):\n",
    "        x[i] = mid\n",
    "        break\n",
    "    if(f(x[i-2])*f(mid)>0):\n",
    "        x[i] = mid\n",
    "    else:\n",
    "        x[i-1] = x[i-2]\n",
    "        x[i] = mid\n",
    "print(mid)\n"
   ]
  },
  {
   "cell_type": "code",
   "execution_count": null,
   "metadata": {},
   "outputs": [],
   "source": []
  }
 ],
 "metadata": {
  "kernelspec": {
   "display_name": "Python 3",
   "language": "python",
   "name": "python3"
  },
  "language_info": {
   "codemirror_mode": {
    "name": "ipython",
    "version": 3
   },
   "file_extension": ".py",
   "mimetype": "text/x-python",
   "name": "python",
   "nbconvert_exporter": "python",
   "pygments_lexer": "ipython3",
   "version": "3.6.9"
  }
 },
 "nbformat": 4,
 "nbformat_minor": 2
}
