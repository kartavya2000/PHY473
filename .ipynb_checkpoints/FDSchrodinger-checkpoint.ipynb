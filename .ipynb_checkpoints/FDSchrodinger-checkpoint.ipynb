{
 "cells": [
  {
   "cell_type": "markdown",
   "metadata": {},
   "source": [
    "*Schrodinger equation for free particle periodic boundary conditionns, **$L = 2\\pi$** and solved using **Leapfrog method** along with **3 point finite difference** for calculating 2nd order Spatial derivative.*"
   ]
  },
  {
   "cell_type": "code",
   "execution_count": 1,
   "metadata": {},
   "outputs": [
    {
     "data": {
      "text/plain": [
       "<Figure size 640x480 with 1 Axes>"
      ]
     },
     "metadata": {},
     "output_type": "display_data"
    }
   ],
   "source": [
    "from numpy import *\n",
    "import matplotlib.pyplot as plt\n",
    "j = complex(0.0, 1.0)\n",
    "def f(x):\n",
    "    return (pi**-0.25 * exp(-0.5*x*x))\n",
    "N = 101\n",
    "L = 2*pi\n",
    "h = L/(N)\n",
    "dt = 0.001\n",
    "x = linspace(-L/2.0, L/2.0, N)\n",
    "R = zeros(N+2)\n",
    "I = zeros(N+2)\n",
    "R[1:N+1], I[1:N+1] = f(x[0:N])*cos(x[0:N]), f(x[0:N])*sin(x[0:N])\n",
    "R[0] = R[N]; R[N+1] = R[1];\n",
    "I[0] = I[N]; I[N+1] = I[1];\n",
    "I[1:N+1] = I[1:N+1] + 0.5 * dt * 0.5 * (R[0:N] - 2.0*R[1:N+1] + R[2:N+2])/(h*h)\n",
    "I[0] = I[N]; I[N+1] = I[1];\n",
    "mark = [0.0, 2.0]\n",
    "# mark = linspace(0.0, 5.0, 5)\n",
    "tf = 2.0\n",
    "t = 0.0\n",
    "pos= 0\n",
    "while(t<=tf+dt/2.0):\n",
    "    I1 = zeros(N+2)\n",
    "    R[1:N+1] += (-0.5 * (h**-2) * dt * (I[0:N] - 2.0*I[1:N+1] + I[2:N+2]))\n",
    "    R[0] = R[N]; R[N+1] = R[1];\n",
    "    I1[1:N+1] = I[1:N+1] - 0.5 * (h**-2) * dt * 0.5 * (R[0:N] - 2.0*R[1:N+1] + R[2:N+2])\n",
    "    I[1:N+1] += (0.5 * (h**-2) * dt * (R[0:N] - 2.0*R[1:N+1] + R[2:N+2]))\n",
    "    I[0] = I[N]; I[N+1] = I[1];\n",
    "    if (t+dt/2>=mark[pos]):\n",
    "        plt.plot(x, R[1:N+1]**2 + I1[1:N+1]**2, label = mark[pos])\n",
    "        pos += 1\n",
    "    t += dt\n",
    "plt.legend(loc = 0)\n",
    "plt.show()"
   ]
  },
  {
   "cell_type": "markdown",
   "metadata": {},
   "source": [
    "*Schrodinger equation with $L=2\\pi$ for potentital $V = \\frac{1}{2} x^2$. Rest is same as above. The initial function is different. *"
   ]
  },
  {
   "cell_type": "code",
   "execution_count": 2,
   "metadata": {},
   "outputs": [
    {
     "data": {
      "text/plain": [
       "<matplotlib.legend.Legend at 0x7f6d6903f0b8>"
      ]
     },
     "execution_count": 2,
     "metadata": {},
     "output_type": "execute_result"
    },
    {
     "data": {
      "image/png": "[encoded data removed]",
      "text/plain": [
       "<Figure size 432x288 with 1 Axes>"
      ]
     },
     "metadata": {},
     "output_type": "display_data"
    }
   ],
   "source": [
    "from numpy import *\n",
    "import matplotlib.pyplot as plt\n",
    "j = complex(0.0, 1.0)\n",
    "def f(x):\n",
    "    return 1/sqrt(2)*(pi**-0.25 * exp(-0.5*x*x)) * (1 + sqrt(2)*x)\n",
    "N = 101\n",
    "L = 2*pi\n",
    "h = L/(N)\n",
    "def V(x):\n",
    "    return 0.5 * x**2\n",
    "dt = 0.001\n",
    "x = linspace(-L/2.0, L/2.0, N)\n",
    "R = zeros(N+2)\n",
    "I = zeros(N+2)\n",
    "\n",
    "R[1:N+1] = f(x[0:N])\n",
    "\n",
    "R[0] = R[N]; R[N+1] = R[1];\n",
    "I[0] = I[N]; I[N+1] = I[1];\n",
    "\n",
    "I[1:N+1] = I[1:N+1] - 0.5 * dt *(-0.5 * (h**-2)  * (R[0:N] - 2.0*R[1:N+1] + R[2:N+2]) + V(x)*R[1:N+1])\n",
    "I[0] = I[N]; I[N+1] = I[1];\n",
    "\n",
    "mark = [0.0, 1.0]\n",
    "tf = 1.0\n",
    "# mark = linspace(0.0, tf, 5)\n",
    "t = 0.0\n",
    "pos= 0\n",
    "\n",
    "while(t<=tf+dt/2.0):\n",
    "    I1 = zeros(N+2)\n",
    "    R[1:N+1] += dt * (-0.5 * (h**-2) * (I[0:N] - 2.0*I[1:N+1] + I[2:N+2]) + V(x)*I[1:N+1])\n",
    "    R[0] = R[N]; R[N+1] = R[1];\n",
    "    I1[1:N+1] = I[1:N+1] - 0.5 * dt * (-0.5 * (h**-2) * (R[0:N] - 2.0*R[1:N+1] + R[2:N+2]) + V(x)*R[1:N+1])\n",
    "    I[1:N+1] += -dt * (-0.5 * (h**-2) *(R[0:N] - 2.0*R[1:N+1] + R[2:N+2]) + V(x)*R[1:N+1])\n",
    "    I[0] = I[N]; I[N+1] = I[1];\n",
    "    if (t+dt/2>=mark[pos]):\n",
    "        plt.plot(x, R[1:N+1]**2 + I1[1:N+1]**2, label = mark[pos])\n",
    "        pos += 1\n",
    "    t += dt\n",
    "plt.legend(loc = 0)"
   ]
  },
  {
   "cell_type": "code",
   "execution_count": null,
   "metadata": {},
   "outputs": [],
   "source": []
  },
  {
   "cell_type": "markdown",
   "metadata": {},
   "source": [
    "Obtaining the maximum value of Probability function $|\\psi|^2$ for the solution to schrodinger equation with same condition in the first part"
   ]
  },
  {
   "cell_type": "code",
   "execution_count": 3,
   "metadata": {},
   "outputs": [
    {
     "name": "stdout",
     "output_type": "stream",
     "text": [
      "0.25\n"
     ]
    },
    {
     "data": {
      "text/plain": [
       "(0.0, 0.5)"
      ]
     },
     "execution_count": 3,
     "metadata": {},
     "output_type": "execute_result"
    },
    {
     "data": {
      "image/png": "[encoded data removed]",
      "text/plain": [
       "<Figure size 432x288 with 1 Axes>"
      ]
     },
     "metadata": {},
     "output_type": "display_data"
    }
   ],
   "source": [
    "from numpy import *\n",
    "import matplotlib.pyplot as plt\n",
    "j = complex(0.0, 1.0)\n",
    "def f(x):\n",
    "    return (pi**-0.25 * exp(-0.5*x*x))\n",
    "N = 101\n",
    "L = 2*pi\n",
    "h = L/(N)\n",
    "dt = 0.001\n",
    "x = linspace(-L/2.0, L/2.0, N)\n",
    "R = zeros(N+2)\n",
    "I = zeros(N+2)\n",
    "R[1:N+1], I[1:N+1] = f(x[0:N])*cos(x[0:N]), f(x[0:N])*sin(x[0:N])\n",
    "R[0] = R[N]; R[N+1] = R[1];\n",
    "I[0] = I[N]; I[N+1] = I[1];\n",
    "I[1:N+1] = I[1:N+1] + 0.5 * dt * 0.5 * (R[0:N] - 2.0*R[1:N+1] + R[2:N+2])/(h*h)\n",
    "I[0] = I[N]; I[N+1] = I[1];\n",
    "mark = [2.0]\n",
    "# mark = linspace(0.0, 5.0, 5)\n",
    "tf = 2.0\n",
    "t = 0.0\n",
    "pos= 0\n",
    "while(t<=tf+dt/2.0):\n",
    "    I1 = zeros(N+2)\n",
    "    R[1:N+1] += (-0.5 * (h**-2) * dt * (I[0:N] - 2.0*I[1:N+1] + I[2:N+2]))\n",
    "    R[0] = R[N]; R[N+1] = R[1];\n",
    "    I1[1:N+1] = I[1:N+1] - 0.5 * (h**-2) * dt * 0.5 * (R[0:N] - 2.0*R[1:N+1] + R[2:N+2])\n",
    "    I[1:N+1] += (0.5 * (h**-2) * dt * (R[0:N] - 2.0*R[1:N+1] + R[2:N+2]))\n",
    "    I[0] = I[N]; I[N+1] = I[1];\n",
    "    if (t+dt/2>=mark[pos]):\n",
    "        print(round(max(R**2 + I1**2), 2))\n",
    "        plt.plot(x, R[1:N+1]**2 + I1[1:N+1]**2)\n",
    "        \n",
    "    t += dt\n",
    "plt.ylim((0.0, 0.5))"
   ]
  },
  {
   "cell_type": "markdown",
   "metadata": {},
   "source": [
    "Obtaining maximum value of $|\\psi|^2$ for the second case of schrodinger equation."
   ]
  },
  {
   "cell_type": "code",
   "execution_count": 4,
   "metadata": {},
   "outputs": [
    {
     "name": "stdout",
     "output_type": "stream",
     "text": [
      "0.52\n"
     ]
    }
   ],
   "source": [
    "from numpy import *\n",
    "import matplotlib.pyplot as plt\n",
    "j = complex(0.0, 1.0)\n",
    "def f(x):\n",
    "    return 1/sqrt(2)*(pi**-0.25 * exp(-0.5*x*x)) * (1 + sqrt(2)*x)\n",
    "N = 101\n",
    "L = 2*pi\n",
    "h = L/(N)\n",
    "def V(x):\n",
    "    return 0.5 * x**2\n",
    "dt = 0.001\n",
    "x = linspace(-L/2.0, L/2.0, N)\n",
    "R = zeros(N+2)\n",
    "I = zeros(N+2)\n",
    "\n",
    "R[1:N+1] = f(x[0:N])\n",
    "\n",
    "R[0] = R[N]; R[N+1] = R[1];\n",
    "I[0] = I[N]; I[N+1] = I[1];\n",
    "\n",
    "I[1:N+1] = I[1:N+1] - 0.5 * dt *(-0.5 * (h**-2)  * (R[0:N] - 2.0*R[1:N+1] + R[2:N+2]) + V(x)*R[1:N+1])\n",
    "I[0] = I[N]; I[N+1] = I[1];\n",
    "\n",
    "mark = [1.0]\n",
    "tf = 1.0\n",
    "# mark = linspace(0.0, tf, 5)\n",
    "t = 0.0\n",
    "pos= 0\n",
    "\n",
    "while(t<=tf+dt/2.0):\n",
    "    I1 = zeros(N+2)\n",
    "    R[1:N+1] += dt * (-0.5 * (h**-2) * (I[0:N] - 2.0*I[1:N+1] + I[2:N+2]) + V(x)*I[1:N+1])\n",
    "    R[0] = R[N]; R[N+1] = R[1];\n",
    "    I1[1:N+1] = I[1:N+1] - 0.5 * dt * (-0.5 * (h**-2) * (R[0:N] - 2.0*R[1:N+1] + R[2:N+2]) + V(x)*R[1:N+1])\n",
    "    I[1:N+1] += -dt * (-0.5 * (h**-2) *(R[0:N] - 2.0*R[1:N+1] + R[2:N+2]) + V(x)*R[1:N+1])\n",
    "    I[0] = I[N]; I[N+1] = I[1];\n",
    "    if (t+dt/2>=mark[pos]):\n",
    "        print(round(max(I1**2 + R**2), 2))\n",
    "        pos += 1\n",
    "    t += dt\n",
    "# plt.legend(loc = 0)"
   ]
  },
  {
   "cell_type": "markdown",
   "metadata": {},
   "source": [
    "Solving the second problem using RK2 method for time stepping and 3 point cetral difference for derivative."
   ]
  },
  {
   "cell_type": "code",
   "execution_count": 5,
   "metadata": {},
   "outputs": [
    {
     "data": {
      "text/plain": [
       "<matplotlib.legend.Legend at 0x7f6da812b7f0>"
      ]
     },
     "execution_count": 5,
     "metadata": {},
     "output_type": "execute_result"
    },
    {
     "data": {
      "image/png": "[encoded data removed]",
      "text/plain": [
       "<Figure size 432x288 with 1 Axes>"
      ]
     },
     "metadata": {},
     "output_type": "display_data"
    }
   ],
   "source": [
    "from numpy import *\n",
    "import matplotlib.pyplot as plt\n",
    "j = complex(0.0, 1.0)\n",
    "def f(x):\n",
    "    return 1/sqrt(2)*(pi**-0.25 * exp(-0.5*x*x)) * (1 + sqrt(2)*x)\n",
    "N = 101\n",
    "L = 2*pi\n",
    "h = L/(N)\n",
    "\n",
    "dt = 0.0001\n",
    "x = linspace(-L/2.0, L/2.0, N)\n",
    "\n",
    "y = zeros(N+2, dtype = complex)\n",
    "y[1:N+1] = f(x)\n",
    "ymid = zeros(N+2, dtype = complex)\n",
    "y[0] = y[N]; y[-1] = y[1];\n",
    "\n",
    "mark = [0.0, 1.0]\n",
    "tf = 1.0\n",
    "# mark = linspace(0.0, tf, 5)\n",
    "t = 0.0\n",
    "pos= 0\n",
    "V = 0.5*x*x\n",
    "j = complex(0.0, 1.0)\n",
    "while(t<=tf+dt/2.0):\n",
    "    ymid[1:N+1] = y[1:N+1] + 0.5*(-j)*dt*(-0.5*(h**-2)*(y[0:N] - 2.0*y[1:N+1] + y[2:N+2]) + V*y[1:N+1])\n",
    "    ymid[0] = ymid[N]; ymid[-1] = ymid[1];\n",
    "    \n",
    "    y[1:N+1] = y[1:N+1] + (-j)*dt*(-0.5*(h**-2)*(ymid[0:N] - 2.0*ymid[1:N+1] + ymid[2:N+2]) + V*ymid[1:N+1])\n",
    "    y[0] = y[N]; y[-1] = y[1];\n",
    "    if (t+dt/2>=mark[pos]):\n",
    "        plt.plot(x, abs(y[1:N+1])**2, label = mark[pos])\n",
    "        pos += 1\n",
    "    t += dt\n",
    "plt.legend(loc = 0)"
   ]
  }
 ],
 "metadata": {
  "kernelspec": {
   "display_name": "Python 3",
   "language": "python",
   "name": "python3"
  },
  "language_info": {
   "codemirror_mode": {
    "name": "ipython",
    "version": 3
   },
   "file_extension": ".py",
   "mimetype": "text/x-python",
   "name": "python",
   "nbconvert_exporter": "python",
   "pygments_lexer": "ipython3",
   "version": "3.6.9"
  }
 },
 "nbformat": 4,
 "nbformat_minor": 2
}
