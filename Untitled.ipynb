{
 "cells": [
  {
   "cell_type": "markdown",
   "metadata": {},
   "source": [
    "Using Spectral method:"
   ]
  },
  {
   "cell_type": "code",
   "execution_count": 4,
   "metadata": {},
   "outputs": [
    {
     "name": "stdout",
     "output_type": "stream",
     "text": [
      "0.3334\n"
     ]
    },
    {
     "data": {
      "image/png": "[encoded data removed]",
      "text/plain": [
       "<Figure size 432x288 with 1 Axes>"
      ]
     },
     "metadata": {},
     "output_type": "display_data"
    }
   ],
   "source": [
    "from numpy import *\n",
    "import matplotlib.pyplot as plt\n",
    "j = complex(0.0, 1.0)\n",
    "def f(x):\n",
    "    return exp(-2.0*(x-pi)**2)\n",
    "N = 64\n",
    "L = 2*pi\n",
    "\n",
    "\n",
    "dt = 0.0001\n",
    "x = arange(0.0, L, L/N)\n",
    "h = x[1] - x[0]\n",
    "y = f(x)\n",
    "yt = fft.fft(y, N)\n",
    "# k = arange(0.0, (N+.0)/2.0)\n",
    "k1 = list(range(0, int(N/2)+1))\n",
    "k2 = list(range(-int(N/2)+1, 0))\n",
    "k = fft.fftfreq(N, 1.0/N)\n",
    "# k = array(k1+k2)\n",
    "# concatenate(k, arange(-(N+0.0)/2.0, 0.0))\n",
    "t = 0.0\n",
    "tf = 1.0\n",
    "while(t+dt/2.0<tf):\n",
    "    ytm = yt - yt*dt*0.5*k*k\n",
    "    yt = yt - ytm*dt*k*k\n",
    "    t+=dt\n",
    "plt.plot(x,y)\n",
    "y = real(fft.ifft(yt, N))\n",
    "plt.plot(x, y)\n",
    "print(round(max(y), 4))\n"
   ]
  },
  {
   "cell_type": "markdown",
   "metadata": {},
   "source": [
    "Using FD method:"
   ]
  },
  {
   "cell_type": "code",
   "execution_count": 53,
   "metadata": {},
   "outputs": [
    {
     "name": "stdout",
     "output_type": "stream",
     "text": [
      "0.3288\n"
     ]
    }
   ],
   "source": [
    "from numpy import *\n",
    "import matplotlib.pyplot as plt\n",
    "j = complex(0.0, 1.0)\n",
    "def f(x):\n",
    "    return exp(-2.0*(x-pi)**2)\n",
    "N = 64\n",
    "L = 2*pi\n",
    "h = L/(N)\n",
    "\n",
    "dt = 0.0001\n",
    "x = linspace(0,L, N)\n",
    "\n",
    "y = zeros(N+2)\n",
    "y[1:N+1] = f(x)\n",
    "ymid = zeros(N+2)\n",
    "y[0] = y[N]; y[-1] = y[1];\n",
    "\n",
    "mark = [0.0, 1.0]\n",
    "tf = 1.0\n",
    "# mark = linspace(0.0, tf, 5)\n",
    "t = 0.0\n",
    "pos= 0\n",
    "j = complex(0.0, 1.0)\n",
    "while(t+dt/2<tf):\n",
    "    ymid[1:N+1] = y[1:N+1] + 0.5 * dt * (h**-2) * (y[0:N] - 2.0 * y[1:N+1] + y[2:N+2])\n",
    "    ymid[0] = ymid[N]; ymid[-1] = ymid[1];\n",
    "    \n",
    "    y[1:N+1] = y[1:N+1] +  dt * (h**-2) * (ymid[0:N] - 2.0 * ymid[1:N+1] + ymid[2:N+2])\n",
    "    y[0] = y[N]; y[-1] = y[1];\n",
    "    t += dt\n",
    "\n",
    "print(round(max(y), 4))\n"
   ]
  },
  {
   "cell_type": "code",
   "execution_count": 57,
   "metadata": {},
   "outputs": [
    {
     "name": "stdout",
     "output_type": "stream",
     "text": [
      "0.68\n"
     ]
    }
   ],
   "source": [
    "from numpy import *\n",
    "import matplotlib.pyplot as plt\n",
    "j = complex(0.0, 1.0)\n",
    "def f(x):\n",
    "    return 1/sqrt(2)*(pi**-0.25 * exp(-0.5*x*x)) * (1 + sqrt(2)*x)\n",
    "N = 101\n",
    "L = 2*pi\n",
    "h = L/(N)\n",
    "def V(x):\n",
    "    return 0.5 * x**2\n",
    "dt = 0.001\n",
    "x = linspace(-L/2.0, L/2.0, N)\n",
    "R = zeros(N+2)\n",
    "I = zeros(N+2)\n",
    "\n",
    "R[1:N+1] = f(x[0:N])\n",
    "\n",
    "R[0] = R[N]; R[N+1] = R[1];\n",
    "I[0] = I[N]; I[N+1] = I[1];\n",
    "\n",
    "I[1:N+1] = I[1:N+1] - 0.5 * dt *(-0.5 * (h**-2)  * (R[0:N] - 2.0*R[1:N+1] + R[2:N+2]) + V(x)*R[1:N+1])\n",
    "I[0] = I[N]; I[N+1] = I[1];\n",
    "\n",
    "mark = [0.1, 1.0]\n",
    "tf = 0.1\n",
    "# mark = linspace(0.0, tf, 5)\n",
    "t = 0.0\n",
    "pos= 0\n",
    "ans = zeros(N+2)\n",
    "while(t<=tf+dt):\n",
    "    I1 = zeros(N+2)\n",
    "    R[1:N+1] += dt * (-0.5 * (h**-2) * (I[0:N] - 2.0*I[1:N+1] + I[2:N+2]) )\n",
    "    R[0] = R[N]; R[N+1] = R[1];\n",
    "    I1[1:N+1] = I[1:N+1] - 0.5 * dt * (-0.5 * (h**-2) * (R[0:N] - 2.0*R[1:N+1] + R[2:N+2]) + V(x)*R[1:N+1])\n",
    "    I[1:N+1] += -dt * (-0.5 * (h**-2) *(R[0:N] - 2.0*R[1:N+1] + R[2:N+2]) + V(x)*R[1:N+1])\n",
    "    I[0] = I[N]; I[N+1] = I[1];\n",
    "    if (t+dt/2>=mark[pos]):\n",
    "        ans = R**2 + I**2\n",
    "        pos += 1\n",
    "    t += dt\n",
    "print(round(max(ans), 2))\n",
    "# plt.legend(loc = 0)"
   ]
  },
  {
   "cell_type": "code",
   "execution_count": 11,
   "metadata": {},
   "outputs": [
    {
     "name": "stdout",
     "output_type": "stream",
     "text": [
      "1.0\n",
      "1.0\n",
      "2.9068\n"
     ]
    }
   ],
   "source": [
    "from numpy import *\n",
    "lx=10.0; ly=10.0;\n",
    "n=256\n",
    "\n",
    "\n",
    "f=fft.fftfreq(n, 10.0/(n))\n",
    "kx, ky=float(input()), float(input())\n",
    "ix, iy=-1, -1\n",
    "for i in range(0, n):\n",
    "    if(abs(f[i]-kx)<0.0001):\n",
    "        ix=i\n",
    "    if(abs(f[i]-ky)<0.0001):\n",
    "        iy=i\n",
    "def fun(x,y):\n",
    "    return (sin(x)**2)*(cos(x+y)**3)\n",
    "funa=zeros((n+1, n+1))\n",
    "xa=linspace(0.0, 10.0, n)\n",
    "ya=linspace(0.0, 10.0, n)\n",
    "z=meshgrid(xa, ya)\n",
    "ff=fft.fft2(fun(z[0], z[1]))\n",
    "print(round(abs(ff[ix,iy]),4))\n",
    "\n"
   ]
  },
  {
   "cell_type": "code",
   "execution_count": 12,
   "metadata": {},
   "outputs": [
    {
     "name": "stdout",
     "output_type": "stream",
     "text": [
      "[  0.    0.1   0.2   0.3   0.4   0.5   0.6   0.7   0.8   0.9   1.    1.1\n",
      "   1.2   1.3   1.4   1.5   1.6   1.7   1.8   1.9   2.    2.1   2.2   2.3\n",
      "   2.4   2.5   2.6   2.7   2.8   2.9   3.    3.1   3.2   3.3   3.4   3.5\n",
      "   3.6   3.7   3.8   3.9   4.    4.1   4.2   4.3   4.4   4.5   4.6   4.7\n",
      "   4.8   4.9   5.    5.1   5.2   5.3   5.4   5.5   5.6   5.7   5.8   5.9\n",
      "   6.    6.1   6.2   6.3   6.4   6.5   6.6   6.7   6.8   6.9   7.    7.1\n",
      "   7.2   7.3   7.4   7.5   7.6   7.7   7.8   7.9   8.    8.1   8.2   8.3\n",
      "   8.4   8.5   8.6   8.7   8.8   8.9   9.    9.1   9.2   9.3   9.4   9.5\n",
      "   9.6   9.7   9.8   9.9  10.   10.1  10.2  10.3  10.4  10.5  10.6  10.7\n",
      "  10.8  10.9  11.   11.1  11.2  11.3  11.4  11.5  11.6  11.7  11.8  11.9\n",
      "  12.   12.1  12.2  12.3  12.4  12.5  12.6  12.7 -12.8 -12.7 -12.6 -12.5\n",
      " -12.4 -12.3 -12.2 -12.1 -12.  -11.9 -11.8 -11.7 -11.6 -11.5 -11.4 -11.3\n",
      " -11.2 -11.1 -11.  -10.9 -10.8 -10.7 -10.6 -10.5 -10.4 -10.3 -10.2 -10.1\n",
      " -10.   -9.9  -9.8  -9.7  -9.6  -9.5  -9.4  -9.3  -9.2  -9.1  -9.   -8.9\n",
      "  -8.8  -8.7  -8.6  -8.5  -8.4  -8.3  -8.2  -8.1  -8.   -7.9  -7.8  -7.7\n",
      "  -7.6  -7.5  -7.4  -7.3  -7.2  -7.1  -7.   -6.9  -6.8  -6.7  -6.6  -6.5\n",
      "  -6.4  -6.3  -6.2  -6.1  -6.   -5.9  -5.8  -5.7  -5.6  -5.5  -5.4  -5.3\n",
      "  -5.2  -5.1  -5.   -4.9  -4.8  -4.7  -4.6  -4.5  -4.4  -4.3  -4.2  -4.1\n",
      "  -4.   -3.9  -3.8  -3.7  -3.6  -3.5  -3.4  -3.3  -3.2  -3.1  -3.   -2.9\n",
      "  -2.8  -2.7  -2.6  -2.5  -2.4  -2.3  -2.2  -2.1  -2.   -1.9  -1.8  -1.7\n",
      "  -1.6  -1.5  -1.4  -1.3  -1.2  -1.1  -1.   -0.9  -0.8  -0.7  -0.6  -0.5\n",
      "  -0.4  -0.3  -0.2  -0.1]\n"
     ]
    },
    {
     "data": {
      "text/plain": [
       "(-3386.8693-1556.7674j)"
      ]
     },
     "execution_count": 12,
     "metadata": {},
     "output_type": "execute_result"
    }
   ],
   "source": [
    "n=256\n",
    "print(fft.fftfreq(n,10.0/(n)))\n",
    "round(ff[1,1], 4)"
   ]
  },
  {
   "cell_type": "code",
   "execution_count": 117,
   "metadata": {},
   "outputs": [
    {
     "data": {
      "text/plain": [
       "2.0"
      ]
     },
     "execution_count": 117,
     "metadata": {},
     "output_type": "execute_result"
    }
   ],
   "source": [
    "from numpy import *\n",
    "def fun(x,y,z):\n",
    "    return 16*(sin(2*x)*cos(5*y)*sin(16*z)+sin(x)+cos(y))\n",
    "N=64\n",
    "L=2*pi\n",
    "x=arange(0.0, L, L/N)\n",
    "y=arange(0.0, L, L/N)\n",
    "z=arange(0.0, L, L/N)\n",
    "f=meshgrid(x,y,z)\n",
    "fx=fun(f[0], f[1], f[2])\n",
    "for i in range(N):\n",
    "    for j in range(N):\n",
    "        for k in range(N):\n",
    "            fx[i,j,k]=fun(x[i], y[j], z[k])\n",
    "ff=fft.fftn(fx)/(N*N*N)\n",
    "fk=fft.fftfreq(N, 1/N)\n",
    "for i in range(N):\n",
    "    if(fk[i]==2.0):\n",
    "        xi=i\n",
    "    if(fk[i]==5.0):\n",
    "        yi=i\n",
    "    if(fk[i]==16.0):\n",
    "        zi=i\n",
    "round(abs(ff[xi][yi][zi]), 3)\n",
    "\n",
    "# ff[0][0][0]\n",
    "# round(ff[2,5,16], 3)\n",
    "# ff[1,0,0]"
   ]
  },
  {
   "cell_type": "code",
   "execution_count": 11,
   "metadata": {},
   "outputs": [
    {
     "data": {
      "text/plain": [
       "array([  0.,   1.,   2.,   3.,   4.,   5.,   6.,   7.,   8.,   9.,  10.,\n",
       "        11.,  12.,  13.,  14.,  15.,  16.,  17.,  18.,  19.,  20.,  21.,\n",
       "        22.,  23.,  24.,  25.,  26.,  27.,  28.,  29.,  30.,  31., -32.,\n",
       "       -31., -30., -29., -28., -27., -26., -25., -24., -23., -22., -21.,\n",
       "       -20., -19., -18., -17., -16., -15., -14., -13., -12., -11., -10.,\n",
       "        -9.,  -8.,  -7.,  -6.,  -5.,  -4.,  -3.,  -2.,  -1.])"
      ]
     },
     "execution_count": 11,
     "metadata": {},
     "output_type": "execute_result"
    }
   ],
   "source": [
    "from numpy import *\n",
    "N=64\n",
    "arange(0,10, 10)\n",
    "fft.fftfreq(N, 1/N)"
   ]
  },
  {
   "cell_type": "code",
   "execution_count": 88,
   "metadata": {},
   "outputs": [
    {
     "data": {
      "text/plain": [
       "0.3507804480860571"
      ]
     },
     "execution_count": 88,
     "metadata": {},
     "output_type": "execute_result"
    }
   ],
   "source": [
    "x=linspace(0,10,11)\n",
    "y=linspace(0,10,11)\n",
    "f=meshgrid(x,y)\n",
    "ffk=fft.fft2(sin(f[0]*sin(f[1])))/(L*L)\n",
    "# print(round(abs(ffk[1,1]), 3))\n",
    "abs(ffk[1,1])\n"
   ]
  },
  {
   "cell_type": "code",
   "execution_count": 114,
   "metadata": {},
   "outputs": [
    {
     "name": "stdout",
     "output_type": "stream",
     "text": [
      "0.5\n",
      "[[7.10542736e-17 2.00148302e-17 6.95988093e-18 1.03461252e-17\n",
      "  1.05003183e-17 5.41327257e-18 1.05003183e-17 3.69300800e-18\n",
      "  6.95988093e-18 2.88794325e-17]\n",
      " [5.77433617e-17 2.50000000e-01 1.32043814e-17 1.15693011e-17\n",
      "  1.33478899e-17 2.66235755e-18 1.03058161e-17 2.70774934e-17\n",
      "  4.98355198e-18 2.50000000e-01]\n",
      " [5.00000000e-01 1.00819851e-17 2.61357821e-18 2.57678468e-18\n",
      "  3.68596427e-18 4.78183748e-18 9.55930464e-18 3.73803018e-18\n",
      "  3.69383399e-18 1.69142035e-17]\n",
      " [4.67731816e-17 2.92403023e-17 2.54740145e-18 4.91680643e-18\n",
      "  3.29613578e-18 1.08328610e-17 4.36405868e-18 9.95232378e-18\n",
      "  8.82283363e-18 1.77636451e-17]\n",
      " [1.01502305e-17 4.79842738e-18 5.35971340e-18 4.87537088e-18\n",
      "  3.10076497e-18 4.03373777e-18 3.58057160e-18 5.18522447e-18\n",
      "  5.73912672e-18 2.06824936e-17]\n",
      " [2.22044605e-17 2.72802789e-17 6.33395360e-18 1.00581344e-17\n",
      "  2.76479554e-18 4.91622921e-18 2.76479554e-18 4.65740848e-18\n",
      "  6.33395360e-18 2.00357567e-17]\n",
      " [1.01502305e-17 1.16793933e-17 5.73912672e-18 9.01359863e-18\n",
      "  3.58057160e-18 6.26809399e-18 3.10076497e-18 4.41056190e-18\n",
      "  5.35971340e-18 1.31898888e-17]\n",
      " [4.67731816e-17 1.54849592e-17 8.82283363e-18 2.48226241e-18\n",
      "  4.36405868e-18 1.02358991e-17 3.29613578e-18 3.79067939e-18\n",
      "  2.54740145e-18 1.91138893e-17]\n",
      " [5.00000000e-01 9.81697715e-18 3.69383399e-18 2.74212805e-18\n",
      "  9.55930464e-18 2.62604944e-18 3.68596427e-18 6.99474502e-18\n",
      "  2.61357821e-18 1.62775942e-17]\n",
      " [5.77433617e-17 2.50000000e-01 4.98355198e-18 1.26418199e-17\n",
      "  1.03058161e-17 1.47355766e-18 1.33478899e-17 2.38249951e-17\n",
      "  1.32043814e-17 2.50000000e-01]]\n"
     ]
    }
   ],
   "source": [
    "x=arange(0,2*pi,2*pi/10)\n",
    "z=arange(0,2*pi,2*pi/10)\n",
    "y=zeros((10,10), dtype=complex)\n",
    "for i in range(10):\n",
    "    for j in range(10):\n",
    "        y[i][j]=cos(x[i])*cos(z[j]) +cos(2*x[i])\n",
    "yk=fft.fft2(y)/100\n",
    "print(abs(round(yk[2,0],3)))\n",
    "print(abs(yk))"
   ]
  },
  {
   "cell_type": "code",
   "execution_count": null,
   "metadata": {},
   "outputs": [],
   "source": [
    "from numpy import *\n",
    "from scipy import linalg \n",
    "a, b1, c=float(input()),float(input()),float(input())\n",
    "# x,y,z=float(input()),float(input()),float(input())\n",
    "b=array([1,-2,3])\n",
    "\n",
    "A=array([[1,2,0],[a,3,a], [0,c,b1]])\n",
    "\n",
    "A[1]-=a*A[0]\n",
    "b[1]-=a*b[0]\n",
    "A[2]-=(c/3)*A[1]\n",
    "b[2]-=(c/3)*b[1]\n",
    "\n",
    "z=b[2]/A[2,2]\n",
    "y=(b[1]-z*A[1,2])/A[1,1]\n",
    "x=(b[0]-y*A[0,1]-z*A[0,2])/A[0,0]\n",
    "\n",
    "print(round(x+y+z,2))\n",
    "X=dot(linalg.inv(A), b)\n",
    "print(sum(X))"
   ]
  },
  {
   "cell_type": "markdown",
   "metadata": {},
   "source": [
    "$$\\frac{d\\vec{p}}{dt}$$"
   ]
  },
  {
   "cell_type": "code",
   "execution_count": 24,
   "metadata": {},
   "outputs": [
    {
     "name": "stdout",
     "output_type": "stream",
     "text": [
      "0.12\n",
      "0.03\n"
     ]
    },
    {
     "data": {
      "text/plain": [
       "array([  0.        ,   0.62831853,   1.25663706,   1.88495559,\n",
       "         2.51327412,   3.14159265,   3.76991118,   4.39822972,\n",
       "         5.02654825,   5.65486678,   6.28318531,   6.91150384,\n",
       "         7.53982237,   8.1681409 ,   8.79645943,   9.42477796,\n",
       "        10.05309649,  10.68141502,  11.30973355,  11.93805208,\n",
       "        12.56637061,  13.19468915,  13.82300768,  14.45132621,\n",
       "        15.07964474,  15.70796327,  16.3362818 ,  16.96460033,\n",
       "        17.59291886,  18.22123739,  18.84955592,  19.47787445,\n",
       "        20.10619298,  20.73451151,  21.36283004,  21.99114858,\n",
       "        22.61946711,  23.24778564,  23.87610417,  24.5044227 ,\n",
       "        25.13274123,  25.76105976,  26.38937829,  27.01769682,\n",
       "        27.64601535,  28.27433388,  28.90265241,  29.53097094,\n",
       "        30.15928947,  30.78760801, -31.41592654, -30.78760801,\n",
       "       -30.15928947, -29.53097094, -28.90265241, -28.27433388,\n",
       "       -27.64601535, -27.01769682, -26.38937829, -25.76105976,\n",
       "       -25.13274123, -24.5044227 , -23.87610417, -23.24778564,\n",
       "       -22.61946711, -21.99114858, -21.36283004, -20.73451151,\n",
       "       -20.10619298, -19.47787445, -18.84955592, -18.22123739,\n",
       "       -17.59291886, -16.96460033, -16.3362818 , -15.70796327,\n",
       "       -15.07964474, -14.45132621, -13.82300768, -13.19468915,\n",
       "       -12.56637061, -11.93805208, -11.30973355, -10.68141502,\n",
       "       -10.05309649,  -9.42477796,  -8.79645943,  -8.1681409 ,\n",
       "        -7.53982237,  -6.91150384,  -6.28318531,  -5.65486678,\n",
       "        -5.02654825,  -4.39822972,  -3.76991118,  -3.14159265,\n",
       "        -2.51327412,  -1.88495559,  -1.25663706,  -0.62831853])"
      ]
     },
     "execution_count": 24,
     "metadata": {},
     "output_type": "execute_result"
    }
   ],
   "source": [
    "from numpy import *\n",
    "l=10\n",
    "j=complex(0,1.0)\n",
    "x=arange(0, l, l/100)\n",
    "y=cos(3*x)+j*sin(3*x)\n",
    "yt=fft.fft(y, 100)/100\n",
    "print(round(abs(yt[3]),2))\n",
    "print(round(abs(yt[-3]),2))\n",
    "\n",
    "fft.fftfreq(100, l/(2*pi*100))"
   ]
  }
 ],
 "metadata": {
  "kernelspec": {
   "display_name": "Python 3",
   "language": "python",
   "name": "python3"
  },
  "language_info": {
   "codemirror_mode": {
    "name": "ipython",
    "version": 3
   },
   "file_extension": ".py",
   "mimetype": "text/x-python",
   "name": "python",
   "nbconvert_exporter": "python",
   "pygments_lexer": "ipython3",
   "version": "3.6.9"
  }
 },
 "nbformat": 4,
 "nbformat_minor": 2
}
